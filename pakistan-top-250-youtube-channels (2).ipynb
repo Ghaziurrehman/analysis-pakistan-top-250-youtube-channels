{
 "cells": [
  {
   "cell_type": "code",
   "execution_count": 1,
   "id": "after-newton",
   "metadata": {
    "_cell_guid": "b1076dfc-b9ad-4769-8c92-a6c4dae69d19",
    "_uuid": "8f2839f25d086af736a60e9eeb907d3b93b6e0e5",
    "execution": {
     "iopub.execute_input": "2021-07-08T03:47:01.721614Z",
     "iopub.status.busy": "2021-07-08T03:47:01.720994Z",
     "iopub.status.idle": "2021-07-08T03:47:01.733789Z",
     "shell.execute_reply": "2021-07-08T03:47:01.733072Z",
     "shell.execute_reply.started": "2021-06-04T18:13:06.692584Z"
    },
    "papermill": {
     "duration": 0.040061,
     "end_time": "2021-07-08T03:47:01.733947",
     "exception": false,
     "start_time": "2021-07-08T03:47:01.693886",
     "status": "completed"
    },
    "tags": []
   },
   "outputs": [
    {
     "name": "stdout",
     "output_type": "stream",
     "text": [
      "/kaggle/input/pakistans-top-250-youtube-channels/Pakistan Top 250 YouTube Channels.csv\n"
     ]
    }
   ],
   "source": [
    "# This Python 3 environment comes with many helpful analytics libraries installed\n",
    "# It is defined by the kaggle/python Docker image: https://github.com/kaggle/docker-python\n",
    "# For example, here's several helpful packages to load\n",
    "\n",
    "import numpy as np # linear algebra\n",
    "import pandas as pd # data processing, CSV file I/O (e.g. pd.read_csv)\n",
    "\n",
    "# Input data files are available in the read-only \"../input/\" directory\n",
    "# For example, running this (by clicking run or pressing Shift+Enter) will list all files under the input directory\n",
    "\n",
    "import os\n",
    "for dirname, _, filenames in os.walk('/kaggle/input'):\n",
    "    for filename in filenames:\n",
    "        print(os.path.join(dirname, filename))\n",
    "\n",
    "# You can write up to 20GB to the current directory (/kaggle/working/) that gets preserved as output when you create a version using \"Save & Run All\" \n",
    "# You can also write temporary files to /kaggle/temp/, but they won't be saved outside of the current session"
   ]
  },
  {
   "cell_type": "code",
   "execution_count": 2,
   "id": "lucky-florida",
   "metadata": {
    "execution": {
     "iopub.execute_input": "2021-07-08T03:47:01.770064Z",
     "iopub.status.busy": "2021-07-08T03:47:01.769327Z",
     "iopub.status.idle": "2021-07-08T03:47:01.804890Z",
     "shell.execute_reply": "2021-07-08T03:47:01.805325Z",
     "shell.execute_reply.started": "2021-06-04T18:14:10.216215Z"
    },
    "papermill": {
     "duration": 0.055622,
     "end_time": "2021-07-08T03:47:01.805516",
     "exception": false,
     "start_time": "2021-07-08T03:47:01.749894",
     "status": "completed"
    },
    "tags": []
   },
   "outputs": [
    {
     "data": {
      "text/html": [
       "<div>\n",
       "<style scoped>\n",
       "    .dataframe tbody tr th:only-of-type {\n",
       "        vertical-align: middle;\n",
       "    }\n",
       "\n",
       "    .dataframe tbody tr th {\n",
       "        vertical-align: top;\n",
       "    }\n",
       "\n",
       "    .dataframe thead th {\n",
       "        text-align: right;\n",
       "    }\n",
       "</style>\n",
       "<table border=\"1\" class=\"dataframe\">\n",
       "  <thead>\n",
       "    <tr style=\"text-align: right;\">\n",
       "      <th></th>\n",
       "      <th>Top #</th>\n",
       "      <th>Twitter</th>\n",
       "    </tr>\n",
       "  </thead>\n",
       "  <tbody>\n",
       "    <tr>\n",
       "      <th>0</th>\n",
       "      <td>1</td>\n",
       "      <td>ARY Digital,Entertainment,19.2M</td>\n",
       "    </tr>\n",
       "    <tr>\n",
       "      <th>1</th>\n",
       "      <td>2</td>\n",
       "      <td>HAR PAL GEO,Entertainment,14.4M</td>\n",
       "    </tr>\n",
       "    <tr>\n",
       "      <th>2</th>\n",
       "      <td>3</td>\n",
       "      <td>TRT Ertugrul by PTV,Entertainment,12.3M</td>\n",
       "    </tr>\n",
       "    <tr>\n",
       "      <th>3</th>\n",
       "      <td>4</td>\n",
       "      <td>HUM TV,Entertainment,12.2M</td>\n",
       "    </tr>\n",
       "    <tr>\n",
       "      <th>4</th>\n",
       "      <td>5</td>\n",
       "      <td>Coke Studio,Music,9.82M</td>\n",
       "    </tr>\n",
       "    <tr>\n",
       "      <th>...</th>\n",
       "      <td>...</td>\n",
       "      <td>...</td>\n",
       "    </tr>\n",
       "    <tr>\n",
       "      <th>245</th>\n",
       "      <td>246</td>\n",
       "      <td>Masala Tv Recipes,Howto &amp; Style,734K</td>\n",
       "    </tr>\n",
       "    <tr>\n",
       "      <th>246</th>\n",
       "      <td>247</td>\n",
       "      <td>WWF - Pakistan,Nonprofits &amp; Activism,731K</td>\n",
       "    </tr>\n",
       "    <tr>\n",
       "      <th>247</th>\n",
       "      <td>248</td>\n",
       "      <td>AapNewsPK,News &amp; Politics,731K</td>\n",
       "    </tr>\n",
       "    <tr>\n",
       "      <th>248</th>\n",
       "      <td>249</td>\n",
       "      <td>Naeem aw Rameez,Entertainment,729K</td>\n",
       "    </tr>\n",
       "    <tr>\n",
       "      <th>249</th>\n",
       "      <td>250</td>\n",
       "      <td>Zawar Motors,Autos &amp; Vehicles,726K</td>\n",
       "    </tr>\n",
       "  </tbody>\n",
       "</table>\n",
       "<p>250 rows × 2 columns</p>\n",
       "</div>"
      ],
      "text/plain": [
       "     Top #                                   Twitter \n",
       "0        1            ARY Digital,Entertainment,19.2M\n",
       "1        2            HAR PAL GEO,Entertainment,14.4M\n",
       "2        3    TRT Ertugrul by PTV,Entertainment,12.3M\n",
       "3        4                 HUM TV,Entertainment,12.2M\n",
       "4        5                    Coke Studio,Music,9.82M\n",
       "..     ...                                        ...\n",
       "245    246       Masala Tv Recipes,Howto & Style,734K\n",
       "246    247  WWF - Pakistan,Nonprofits & Activism,731K\n",
       "247    248             AapNewsPK,News & Politics,731K\n",
       "248    249         Naeem aw Rameez,Entertainment,729K\n",
       "249    250         Zawar Motors,Autos & Vehicles,726K\n",
       "\n",
       "[250 rows x 2 columns]"
      ]
     },
     "execution_count": 2,
     "metadata": {},
     "output_type": "execute_result"
    }
   ],
   "source": [
    "df=pd.read_csv(\"/kaggle/input/pakistans-top-250-youtube-channels/Pakistan Top 250 YouTube Channels.csv\")\n",
    "df"
   ]
  },
  {
   "cell_type": "code",
   "execution_count": 3,
   "id": "medieval-power",
   "metadata": {
    "execution": {
     "iopub.execute_input": "2021-07-08T03:47:01.847639Z",
     "iopub.status.busy": "2021-07-08T03:47:01.846965Z",
     "iopub.status.idle": "2021-07-08T03:47:01.850496Z",
     "shell.execute_reply": "2021-07-08T03:47:01.849995Z",
     "shell.execute_reply.started": "2021-06-04T18:14:32.333103Z"
    },
    "papermill": {
     "duration": 0.028898,
     "end_time": "2021-07-08T03:47:01.850628",
     "exception": false,
     "start_time": "2021-07-08T03:47:01.821730",
     "status": "completed"
    },
    "tags": []
   },
   "outputs": [
    {
     "data": {
      "text/html": [
       "<div>\n",
       "<style scoped>\n",
       "    .dataframe tbody tr th:only-of-type {\n",
       "        vertical-align: middle;\n",
       "    }\n",
       "\n",
       "    .dataframe tbody tr th {\n",
       "        vertical-align: top;\n",
       "    }\n",
       "\n",
       "    .dataframe thead th {\n",
       "        text-align: right;\n",
       "    }\n",
       "</style>\n",
       "<table border=\"1\" class=\"dataframe\">\n",
       "  <thead>\n",
       "    <tr style=\"text-align: right;\">\n",
       "      <th></th>\n",
       "      <th>Top #</th>\n",
       "      <th>Twitter</th>\n",
       "    </tr>\n",
       "  </thead>\n",
       "  <tbody>\n",
       "    <tr>\n",
       "      <th>0</th>\n",
       "      <td>1</td>\n",
       "      <td>ARY Digital,Entertainment,19.2M</td>\n",
       "    </tr>\n",
       "    <tr>\n",
       "      <th>1</th>\n",
       "      <td>2</td>\n",
       "      <td>HAR PAL GEO,Entertainment,14.4M</td>\n",
       "    </tr>\n",
       "    <tr>\n",
       "      <th>2</th>\n",
       "      <td>3</td>\n",
       "      <td>TRT Ertugrul by PTV,Entertainment,12.3M</td>\n",
       "    </tr>\n",
       "    <tr>\n",
       "      <th>3</th>\n",
       "      <td>4</td>\n",
       "      <td>HUM TV,Entertainment,12.2M</td>\n",
       "    </tr>\n",
       "    <tr>\n",
       "      <th>4</th>\n",
       "      <td>5</td>\n",
       "      <td>Coke Studio,Music,9.82M</td>\n",
       "    </tr>\n",
       "    <tr>\n",
       "      <th>5</th>\n",
       "      <td>6</td>\n",
       "      <td>Geo News,News &amp; Politics,8.7M</td>\n",
       "    </tr>\n",
       "    <tr>\n",
       "      <th>6</th>\n",
       "      <td>7</td>\n",
       "      <td>AJ Official,Education,7.22M</td>\n",
       "    </tr>\n",
       "    <tr>\n",
       "      <th>7</th>\n",
       "      <td>8</td>\n",
       "      <td>ARY News,News &amp; Politics,6.78M</td>\n",
       "    </tr>\n",
       "    <tr>\n",
       "      <th>8</th>\n",
       "      <td>9</td>\n",
       "      <td>Islamic Teacher Official,Education,6.43M</td>\n",
       "    </tr>\n",
       "    <tr>\n",
       "      <th>9</th>\n",
       "      <td>10</td>\n",
       "      <td>SAMAA TV,News &amp; Politics,6.02M</td>\n",
       "    </tr>\n",
       "  </tbody>\n",
       "</table>\n",
       "</div>"
      ],
      "text/plain": [
       "   Top #                                  Twitter \n",
       "0      1           ARY Digital,Entertainment,19.2M\n",
       "1      2           HAR PAL GEO,Entertainment,14.4M\n",
       "2      3   TRT Ertugrul by PTV,Entertainment,12.3M\n",
       "3      4                HUM TV,Entertainment,12.2M\n",
       "4      5                   Coke Studio,Music,9.82M\n",
       "5      6             Geo News,News & Politics,8.7M\n",
       "6      7               AJ Official,Education,7.22M\n",
       "7      8            ARY News,News & Politics,6.78M\n",
       "8      9  Islamic Teacher Official,Education,6.43M\n",
       "9     10            SAMAA TV,News & Politics,6.02M"
      ]
     },
     "execution_count": 3,
     "metadata": {},
     "output_type": "execute_result"
    }
   ],
   "source": [
    "df.head(10)"
   ]
  },
  {
   "cell_type": "code",
   "execution_count": 4,
   "id": "healthy-decimal",
   "metadata": {
    "execution": {
     "iopub.execute_input": "2021-07-08T03:47:01.888942Z",
     "iopub.status.busy": "2021-07-08T03:47:01.888102Z",
     "iopub.status.idle": "2021-07-08T03:47:01.892797Z",
     "shell.execute_reply": "2021-07-08T03:47:01.892168Z",
     "shell.execute_reply.started": "2021-06-04T18:14:59.142257Z"
    },
    "papermill": {
     "duration": 0.02558,
     "end_time": "2021-07-08T03:47:01.892924",
     "exception": false,
     "start_time": "2021-07-08T03:47:01.867344",
     "status": "completed"
    },
    "tags": []
   },
   "outputs": [
    {
     "data": {
      "text/plain": [
       "Index(['Top #', 'Twitter '], dtype='object')"
      ]
     },
     "execution_count": 4,
     "metadata": {},
     "output_type": "execute_result"
    }
   ],
   "source": [
    "df.columns"
   ]
  },
  {
   "cell_type": "code",
   "execution_count": 5,
   "id": "ceramic-occasion",
   "metadata": {
    "execution": {
     "iopub.execute_input": "2021-07-08T03:47:01.936808Z",
     "iopub.status.busy": "2021-07-08T03:47:01.936127Z",
     "iopub.status.idle": "2021-07-08T03:47:01.938623Z",
     "shell.execute_reply": "2021-07-08T03:47:01.939127Z",
     "shell.execute_reply.started": "2021-06-04T18:15:46.646594Z"
    },
    "papermill": {
     "duration": 0.028684,
     "end_time": "2021-07-08T03:47:01.939279",
     "exception": false,
     "start_time": "2021-07-08T03:47:01.910595",
     "status": "completed"
    },
    "tags": []
   },
   "outputs": [],
   "source": [
    "#Change the name of Twitter  because Column name with space  create mess\n",
    "df.rename({'Twitter ' :\"Twitter\"},axis=1,inplace=True)"
   ]
  },
  {
   "cell_type": "code",
   "execution_count": 6,
   "id": "fifty-liabilities",
   "metadata": {
    "execution": {
     "iopub.execute_input": "2021-07-08T03:47:01.978160Z",
     "iopub.status.busy": "2021-07-08T03:47:01.977453Z",
     "iopub.status.idle": "2021-07-08T03:47:01.979962Z",
     "shell.execute_reply": "2021-07-08T03:47:01.980445Z",
     "shell.execute_reply.started": "2021-06-04T18:16:43.566838Z"
    },
    "papermill": {
     "duration": 0.024621,
     "end_time": "2021-07-08T03:47:01.980609",
     "exception": false,
     "start_time": "2021-07-08T03:47:01.955988",
     "status": "completed"
    },
    "tags": []
   },
   "outputs": [
    {
     "data": {
      "text/plain": [
       "Index(['Top #', 'Twitter'], dtype='object')"
      ]
     },
     "execution_count": 6,
     "metadata": {},
     "output_type": "execute_result"
    }
   ],
   "source": [
    "df.columns"
   ]
  },
  {
   "cell_type": "code",
   "execution_count": 7,
   "id": "latin-privacy",
   "metadata": {
    "execution": {
     "iopub.execute_input": "2021-07-08T03:47:02.018274Z",
     "iopub.status.busy": "2021-07-08T03:47:02.017643Z",
     "iopub.status.idle": "2021-07-08T03:47:02.037268Z",
     "shell.execute_reply": "2021-07-08T03:47:02.036661Z",
     "shell.execute_reply.started": "2021-06-04T18:17:10.321929Z"
    },
    "papermill": {
     "duration": 0.039863,
     "end_time": "2021-07-08T03:47:02.037425",
     "exception": false,
     "start_time": "2021-07-08T03:47:01.997562",
     "status": "completed"
    },
    "tags": []
   },
   "outputs": [
    {
     "data": {
      "text/html": [
       "<div>\n",
       "<style scoped>\n",
       "    .dataframe tbody tr th:only-of-type {\n",
       "        vertical-align: middle;\n",
       "    }\n",
       "\n",
       "    .dataframe tbody tr th {\n",
       "        vertical-align: top;\n",
       "    }\n",
       "\n",
       "    .dataframe thead th {\n",
       "        text-align: right;\n",
       "    }\n",
       "</style>\n",
       "<table border=\"1\" class=\"dataframe\">\n",
       "  <thead>\n",
       "    <tr style=\"text-align: right;\">\n",
       "      <th></th>\n",
       "      <th>Top #</th>\n",
       "      <th>Twitter</th>\n",
       "      <th>Channel Name</th>\n",
       "      <th>Category</th>\n",
       "      <th>Subscriber</th>\n",
       "    </tr>\n",
       "  </thead>\n",
       "  <tbody>\n",
       "    <tr>\n",
       "      <th>0</th>\n",
       "      <td>1</td>\n",
       "      <td>ARY Digital,Entertainment,19.2M</td>\n",
       "      <td>ARY Digital</td>\n",
       "      <td>Entertainment</td>\n",
       "      <td>19.2M</td>\n",
       "    </tr>\n",
       "    <tr>\n",
       "      <th>1</th>\n",
       "      <td>2</td>\n",
       "      <td>HAR PAL GEO,Entertainment,14.4M</td>\n",
       "      <td>HAR PAL GEO</td>\n",
       "      <td>Entertainment</td>\n",
       "      <td>14.4M</td>\n",
       "    </tr>\n",
       "    <tr>\n",
       "      <th>2</th>\n",
       "      <td>3</td>\n",
       "      <td>TRT Ertugrul by PTV,Entertainment,12.3M</td>\n",
       "      <td>TRT Ertugrul by PTV</td>\n",
       "      <td>Entertainment</td>\n",
       "      <td>12.3M</td>\n",
       "    </tr>\n",
       "    <tr>\n",
       "      <th>3</th>\n",
       "      <td>4</td>\n",
       "      <td>HUM TV,Entertainment,12.2M</td>\n",
       "      <td>HUM TV</td>\n",
       "      <td>Entertainment</td>\n",
       "      <td>12.2M</td>\n",
       "    </tr>\n",
       "    <tr>\n",
       "      <th>4</th>\n",
       "      <td>5</td>\n",
       "      <td>Coke Studio,Music,9.82M</td>\n",
       "      <td>Coke Studio</td>\n",
       "      <td>Music</td>\n",
       "      <td>9.82M</td>\n",
       "    </tr>\n",
       "    <tr>\n",
       "      <th>...</th>\n",
       "      <td>...</td>\n",
       "      <td>...</td>\n",
       "      <td>...</td>\n",
       "      <td>...</td>\n",
       "      <td>...</td>\n",
       "    </tr>\n",
       "    <tr>\n",
       "      <th>245</th>\n",
       "      <td>246</td>\n",
       "      <td>Masala Tv Recipes,Howto &amp; Style,734K</td>\n",
       "      <td>Masala Tv Recipes</td>\n",
       "      <td>Howto &amp; Style</td>\n",
       "      <td>734K</td>\n",
       "    </tr>\n",
       "    <tr>\n",
       "      <th>246</th>\n",
       "      <td>247</td>\n",
       "      <td>WWF - Pakistan,Nonprofits &amp; Activism,731K</td>\n",
       "      <td>WWF - Pakistan</td>\n",
       "      <td>Nonprofits &amp; Activism</td>\n",
       "      <td>731K</td>\n",
       "    </tr>\n",
       "    <tr>\n",
       "      <th>247</th>\n",
       "      <td>248</td>\n",
       "      <td>AapNewsPK,News &amp; Politics,731K</td>\n",
       "      <td>AapNewsPK</td>\n",
       "      <td>News &amp; Politics</td>\n",
       "      <td>731K</td>\n",
       "    </tr>\n",
       "    <tr>\n",
       "      <th>248</th>\n",
       "      <td>249</td>\n",
       "      <td>Naeem aw Rameez,Entertainment,729K</td>\n",
       "      <td>Naeem aw Rameez</td>\n",
       "      <td>Entertainment</td>\n",
       "      <td>729K</td>\n",
       "    </tr>\n",
       "    <tr>\n",
       "      <th>249</th>\n",
       "      <td>250</td>\n",
       "      <td>Zawar Motors,Autos &amp; Vehicles,726K</td>\n",
       "      <td>Zawar Motors</td>\n",
       "      <td>Autos &amp; Vehicles</td>\n",
       "      <td>726K</td>\n",
       "    </tr>\n",
       "  </tbody>\n",
       "</table>\n",
       "<p>250 rows × 5 columns</p>\n",
       "</div>"
      ],
      "text/plain": [
       "     Top #                                    Twitter         Channel Name  \\\n",
       "0        1            ARY Digital,Entertainment,19.2M          ARY Digital   \n",
       "1        2            HAR PAL GEO,Entertainment,14.4M          HAR PAL GEO   \n",
       "2        3    TRT Ertugrul by PTV,Entertainment,12.3M  TRT Ertugrul by PTV   \n",
       "3        4                 HUM TV,Entertainment,12.2M               HUM TV   \n",
       "4        5                    Coke Studio,Music,9.82M          Coke Studio   \n",
       "..     ...                                        ...                  ...   \n",
       "245    246       Masala Tv Recipes,Howto & Style,734K    Masala Tv Recipes   \n",
       "246    247  WWF - Pakistan,Nonprofits & Activism,731K       WWF - Pakistan   \n",
       "247    248             AapNewsPK,News & Politics,731K            AapNewsPK   \n",
       "248    249         Naeem aw Rameez,Entertainment,729K      Naeem aw Rameez   \n",
       "249    250         Zawar Motors,Autos & Vehicles,726K         Zawar Motors   \n",
       "\n",
       "                  Category Subscriber  \n",
       "0            Entertainment      19.2M  \n",
       "1            Entertainment      14.4M  \n",
       "2            Entertainment      12.3M  \n",
       "3            Entertainment      12.2M  \n",
       "4                    Music      9.82M  \n",
       "..                     ...        ...  \n",
       "245          Howto & Style       734K  \n",
       "246  Nonprofits & Activism       731K  \n",
       "247        News & Politics       731K  \n",
       "248          Entertainment       729K  \n",
       "249       Autos & Vehicles       726K  \n",
       "\n",
       "[250 rows x 5 columns]"
      ]
     },
     "execution_count": 7,
     "metadata": {},
     "output_type": "execute_result"
    }
   ],
   "source": [
    "df[[\"Channel Name\",\"Category\",\"Subscriber\"]]=df['Twitter'].str.split(',',expand=True)\n",
    "df"
   ]
  },
  {
   "cell_type": "code",
   "execution_count": 8,
   "id": "legislative-course",
   "metadata": {
    "execution": {
     "iopub.execute_input": "2021-07-08T03:47:02.087716Z",
     "iopub.status.busy": "2021-07-08T03:47:02.086817Z",
     "iopub.status.idle": "2021-07-08T03:47:02.091241Z",
     "shell.execute_reply": "2021-07-08T03:47:02.090729Z",
     "shell.execute_reply.started": "2021-06-04T18:17:29.485622Z"
    },
    "papermill": {
     "duration": 0.036104,
     "end_time": "2021-07-08T03:47:02.091398",
     "exception": false,
     "start_time": "2021-07-08T03:47:02.055294",
     "status": "completed"
    },
    "tags": []
   },
   "outputs": [
    {
     "data": {
      "text/html": [
       "<div>\n",
       "<style scoped>\n",
       "    .dataframe tbody tr th:only-of-type {\n",
       "        vertical-align: middle;\n",
       "    }\n",
       "\n",
       "    .dataframe tbody tr th {\n",
       "        vertical-align: top;\n",
       "    }\n",
       "\n",
       "    .dataframe thead th {\n",
       "        text-align: right;\n",
       "    }\n",
       "</style>\n",
       "<table border=\"1\" class=\"dataframe\">\n",
       "  <thead>\n",
       "    <tr style=\"text-align: right;\">\n",
       "      <th></th>\n",
       "      <th>Channel Name</th>\n",
       "      <th>Category</th>\n",
       "      <th>Subscriber</th>\n",
       "    </tr>\n",
       "  </thead>\n",
       "  <tbody>\n",
       "    <tr>\n",
       "      <th>0</th>\n",
       "      <td>ARY Digital</td>\n",
       "      <td>Entertainment</td>\n",
       "      <td>19.2M</td>\n",
       "    </tr>\n",
       "    <tr>\n",
       "      <th>1</th>\n",
       "      <td>HAR PAL GEO</td>\n",
       "      <td>Entertainment</td>\n",
       "      <td>14.4M</td>\n",
       "    </tr>\n",
       "    <tr>\n",
       "      <th>2</th>\n",
       "      <td>TRT Ertugrul by PTV</td>\n",
       "      <td>Entertainment</td>\n",
       "      <td>12.3M</td>\n",
       "    </tr>\n",
       "    <tr>\n",
       "      <th>3</th>\n",
       "      <td>HUM TV</td>\n",
       "      <td>Entertainment</td>\n",
       "      <td>12.2M</td>\n",
       "    </tr>\n",
       "    <tr>\n",
       "      <th>4</th>\n",
       "      <td>Coke Studio</td>\n",
       "      <td>Music</td>\n",
       "      <td>9.82M</td>\n",
       "    </tr>\n",
       "    <tr>\n",
       "      <th>...</th>\n",
       "      <td>...</td>\n",
       "      <td>...</td>\n",
       "      <td>...</td>\n",
       "    </tr>\n",
       "    <tr>\n",
       "      <th>245</th>\n",
       "      <td>Masala Tv Recipes</td>\n",
       "      <td>Howto &amp; Style</td>\n",
       "      <td>734K</td>\n",
       "    </tr>\n",
       "    <tr>\n",
       "      <th>246</th>\n",
       "      <td>WWF - Pakistan</td>\n",
       "      <td>Nonprofits &amp; Activism</td>\n",
       "      <td>731K</td>\n",
       "    </tr>\n",
       "    <tr>\n",
       "      <th>247</th>\n",
       "      <td>AapNewsPK</td>\n",
       "      <td>News &amp; Politics</td>\n",
       "      <td>731K</td>\n",
       "    </tr>\n",
       "    <tr>\n",
       "      <th>248</th>\n",
       "      <td>Naeem aw Rameez</td>\n",
       "      <td>Entertainment</td>\n",
       "      <td>729K</td>\n",
       "    </tr>\n",
       "    <tr>\n",
       "      <th>249</th>\n",
       "      <td>Zawar Motors</td>\n",
       "      <td>Autos &amp; Vehicles</td>\n",
       "      <td>726K</td>\n",
       "    </tr>\n",
       "  </tbody>\n",
       "</table>\n",
       "<p>250 rows × 3 columns</p>\n",
       "</div>"
      ],
      "text/plain": [
       "            Channel Name               Category Subscriber\n",
       "0            ARY Digital          Entertainment      19.2M\n",
       "1            HAR PAL GEO          Entertainment      14.4M\n",
       "2    TRT Ertugrul by PTV          Entertainment      12.3M\n",
       "3                 HUM TV          Entertainment      12.2M\n",
       "4            Coke Studio                  Music      9.82M\n",
       "..                   ...                    ...        ...\n",
       "245    Masala Tv Recipes          Howto & Style       734K\n",
       "246       WWF - Pakistan  Nonprofits & Activism       731K\n",
       "247            AapNewsPK        News & Politics       731K\n",
       "248      Naeem aw Rameez          Entertainment       729K\n",
       "249         Zawar Motors       Autos & Vehicles       726K\n",
       "\n",
       "[250 rows x 3 columns]"
      ]
     },
     "execution_count": 8,
     "metadata": {},
     "output_type": "execute_result"
    }
   ],
   "source": [
    "df.drop([\"Top #\",\"Twitter\"],axis=1,inplace=True)\n",
    "df"
   ]
  },
  {
   "cell_type": "code",
   "execution_count": 9,
   "id": "continuous-azerbaijan",
   "metadata": {
    "execution": {
     "iopub.execute_input": "2021-07-08T03:47:02.131573Z",
     "iopub.status.busy": "2021-07-08T03:47:02.130956Z",
     "iopub.status.idle": "2021-07-08T03:47:02.139351Z",
     "shell.execute_reply": "2021-07-08T03:47:02.138819Z",
     "shell.execute_reply.started": "2021-06-04T18:17:54.039547Z"
    },
    "papermill": {
     "duration": 0.029674,
     "end_time": "2021-07-08T03:47:02.139496",
     "exception": false,
     "start_time": "2021-07-08T03:47:02.109822",
     "status": "completed"
    },
    "tags": []
   },
   "outputs": [
    {
     "data": {
      "text/plain": [
       "Channel Name    0\n",
       "Category        0\n",
       "Subscriber      0\n",
       "dtype: int64"
      ]
     },
     "execution_count": 9,
     "metadata": {},
     "output_type": "execute_result"
    }
   ],
   "source": [
    "#Check null values if exist\n",
    "df.isnull().sum()"
   ]
  },
  {
   "cell_type": "code",
   "execution_count": 10,
   "id": "continuous-biotechnology",
   "metadata": {
    "execution": {
     "iopub.execute_input": "2021-07-08T03:47:02.183067Z",
     "iopub.status.busy": "2021-07-08T03:47:02.182154Z",
     "iopub.status.idle": "2021-07-08T03:47:02.186351Z",
     "shell.execute_reply": "2021-07-08T03:47:02.185840Z",
     "shell.execute_reply.started": "2021-06-04T18:18:30.287358Z"
    },
    "papermill": {
     "duration": 0.028045,
     "end_time": "2021-07-08T03:47:02.186495",
     "exception": false,
     "start_time": "2021-07-08T03:47:02.158450",
     "status": "completed"
    },
    "tags": []
   },
   "outputs": [
    {
     "data": {
      "text/plain": [
       "0"
      ]
     },
     "execution_count": 10,
     "metadata": {},
     "output_type": "execute_result"
    }
   ],
   "source": [
    "#Check duplicate values if exist\n",
    "df['Channel Name'].duplicated().sum()"
   ]
  },
  {
   "cell_type": "code",
   "execution_count": 11,
   "id": "vietnamese-still",
   "metadata": {
    "execution": {
     "iopub.execute_input": "2021-07-08T03:47:02.227838Z",
     "iopub.status.busy": "2021-07-08T03:47:02.227168Z",
     "iopub.status.idle": "2021-07-08T03:47:02.242935Z",
     "shell.execute_reply": "2021-07-08T03:47:02.242302Z",
     "shell.execute_reply.started": "2021-06-04T18:19:41.245922Z"
    },
    "papermill": {
     "duration": 0.037543,
     "end_time": "2021-07-08T03:47:02.243072",
     "exception": false,
     "start_time": "2021-07-08T03:47:02.205529",
     "status": "completed"
    },
    "tags": []
   },
   "outputs": [
    {
     "data": {
      "text/html": [
       "<div>\n",
       "<style scoped>\n",
       "    .dataframe tbody tr th:only-of-type {\n",
       "        vertical-align: middle;\n",
       "    }\n",
       "\n",
       "    .dataframe tbody tr th {\n",
       "        vertical-align: top;\n",
       "    }\n",
       "\n",
       "    .dataframe thead th {\n",
       "        text-align: right;\n",
       "    }\n",
       "</style>\n",
       "<table border=\"1\" class=\"dataframe\">\n",
       "  <thead>\n",
       "    <tr style=\"text-align: right;\">\n",
       "      <th></th>\n",
       "      <th>Channel Name</th>\n",
       "      <th>Category</th>\n",
       "      <th>Subscriber</th>\n",
       "    </tr>\n",
       "  </thead>\n",
       "  <tbody>\n",
       "    <tr>\n",
       "      <th>0</th>\n",
       "      <td>ARY Digital</td>\n",
       "      <td>Entertainment</td>\n",
       "      <td>19200000.0</td>\n",
       "    </tr>\n",
       "    <tr>\n",
       "      <th>1</th>\n",
       "      <td>HAR PAL GEO</td>\n",
       "      <td>Entertainment</td>\n",
       "      <td>14400000.0</td>\n",
       "    </tr>\n",
       "    <tr>\n",
       "      <th>2</th>\n",
       "      <td>TRT Ertugrul by PTV</td>\n",
       "      <td>Entertainment</td>\n",
       "      <td>12300000.0</td>\n",
       "    </tr>\n",
       "    <tr>\n",
       "      <th>3</th>\n",
       "      <td>HUM TV</td>\n",
       "      <td>Entertainment</td>\n",
       "      <td>12200000.0</td>\n",
       "    </tr>\n",
       "    <tr>\n",
       "      <th>4</th>\n",
       "      <td>Coke Studio</td>\n",
       "      <td>Music</td>\n",
       "      <td>9820000.0</td>\n",
       "    </tr>\n",
       "    <tr>\n",
       "      <th>5</th>\n",
       "      <td>Geo News</td>\n",
       "      <td>News &amp; Politics</td>\n",
       "      <td>8700000.0</td>\n",
       "    </tr>\n",
       "    <tr>\n",
       "      <th>6</th>\n",
       "      <td>AJ Official</td>\n",
       "      <td>Education</td>\n",
       "      <td>7220000.0</td>\n",
       "    </tr>\n",
       "    <tr>\n",
       "      <th>7</th>\n",
       "      <td>ARY News</td>\n",
       "      <td>News &amp; Politics</td>\n",
       "      <td>6780000.0</td>\n",
       "    </tr>\n",
       "    <tr>\n",
       "      <th>8</th>\n",
       "      <td>Islamic Teacher Official</td>\n",
       "      <td>Education</td>\n",
       "      <td>6430000.0</td>\n",
       "    </tr>\n",
       "    <tr>\n",
       "      <th>9</th>\n",
       "      <td>SAMAA TV</td>\n",
       "      <td>News &amp; Politics</td>\n",
       "      <td>6020000.0</td>\n",
       "    </tr>\n",
       "  </tbody>\n",
       "</table>\n",
       "</div>"
      ],
      "text/plain": [
       "               Channel Name         Category  Subscriber\n",
       "0               ARY Digital    Entertainment  19200000.0\n",
       "1               HAR PAL GEO    Entertainment  14400000.0\n",
       "2       TRT Ertugrul by PTV    Entertainment  12300000.0\n",
       "3                    HUM TV    Entertainment  12200000.0\n",
       "4               Coke Studio            Music   9820000.0\n",
       "5                  Geo News  News & Politics   8700000.0\n",
       "6               AJ Official        Education   7220000.0\n",
       "7                  ARY News  News & Politics   6780000.0\n",
       "8  Islamic Teacher Official        Education   6430000.0\n",
       "9                  SAMAA TV  News & Politics   6020000.0"
      ]
     },
     "execution_count": 11,
     "metadata": {},
     "output_type": "execute_result"
    }
   ],
   "source": [
    "#Convert K or M value in numbers using function\n",
    "def value_to_no(x):\n",
    "    if type(x) == float or type(x) == int:\n",
    "        return x\n",
    "    if 'K' in x:\n",
    "        if len(x) > 1:\n",
    "            return float(x.replace('K', '')) * 1000\n",
    "        return 1000.0\n",
    "    if 'M' in x:\n",
    "        if len(x) > 1:\n",
    "            return float(x.replace('M', '')) * 1000000\n",
    "        return 1000000.0\n",
    "df['Subscriber']=df['Subscriber'].apply(value_to_no)\n",
    "df.head(10)"
   ]
  },
  {
   "cell_type": "code",
   "execution_count": 12,
   "id": "nonprofit-armor",
   "metadata": {
    "execution": {
     "iopub.execute_input": "2021-07-08T03:47:02.284853Z",
     "iopub.status.busy": "2021-07-08T03:47:02.284180Z",
     "iopub.status.idle": "2021-07-08T03:47:03.401161Z",
     "shell.execute_reply": "2021-07-08T03:47:03.400646Z",
     "shell.execute_reply.started": "2021-06-04T18:21:50.116374Z"
    },
    "papermill": {
     "duration": 1.138794,
     "end_time": "2021-07-08T03:47:03.401302",
     "exception": false,
     "start_time": "2021-07-08T03:47:02.262508",
     "status": "completed"
    },
    "tags": []
   },
   "outputs": [
    {
     "data": {
      "text/plain": [
       "<AxesSubplot:title={'center':'Youtube Channel Has Subscriber more than 6M '}, xlabel='Channel Name', ylabel='Subscriber'>"
      ]
     },
     "execution_count": 12,
     "metadata": {},
     "output_type": "execute_result"
    },
    {
     "data": {
      "image/png": "[encoded data removed]",
      "text/plain": [
       "<Figure size 1080x504 with 1 Axes>"
      ]
     },
     "metadata": {
      "needs_background": "light"
     },
     "output_type": "display_data"
    }
   ],
   "source": [
    "#Display Channel has more than 6M Subscribers using barplot\n",
    "import matplotlib.pyplot as plt\n",
    "import seaborn as sns\n",
    "plt.figure(figsize=(15,7))\n",
    "plt.title('Youtube Channel Has Subscriber more than 6M ')\n",
    "plt.xticks(rotation=60)\n",
    "sns.barplot(x='Channel Name',y='Subscriber',data=df.query('Subscriber > 6000000'))"
   ]
  },
  {
   "cell_type": "code",
   "execution_count": 13,
   "id": "focused-tower",
   "metadata": {
    "execution": {
     "iopub.execute_input": "2021-07-08T03:47:03.480587Z",
     "iopub.status.busy": "2021-07-08T03:47:03.476698Z",
     "iopub.status.idle": "2021-07-08T03:47:03.624434Z",
     "shell.execute_reply": "2021-07-08T03:47:03.623888Z",
     "shell.execute_reply.started": "2021-06-04T18:22:37.979911Z"
    },
    "papermill": {
     "duration": 0.202225,
     "end_time": "2021-07-08T03:47:03.624572",
     "exception": false,
     "start_time": "2021-07-08T03:47:03.422347",
     "status": "completed"
    },
    "tags": []
   },
   "outputs": [
    {
     "data": {
      "image/png": "[encoded data removed]",
      "text/plain": [
       "<Figure size 432x288 with 1 Axes>"
      ]
     },
     "metadata": {},
     "output_type": "display_data"
    }
   ],
   "source": [
    "# using Pie chart display channel more than 6M Subscriber in a pie form\n",
    "plt.axis('equal')\n",
    "plt.pie('Subscriber',labels='Channel Name',data=df.query('Subscriber>6000000'),radius=1.5,autopct='%1.2f%%')\n",
    "plt.show()"
   ]
  },
  {
   "cell_type": "code",
   "execution_count": 14,
   "id": "congressional-syndicate",
   "metadata": {
    "execution": {
     "iopub.execute_input": "2021-07-08T03:47:03.702724Z",
     "iopub.status.busy": "2021-07-08T03:47:03.675716Z",
     "iopub.status.idle": "2021-07-08T03:47:03.901213Z",
     "shell.execute_reply": "2021-07-08T03:47:03.900544Z",
     "shell.execute_reply.started": "2021-06-04T18:24:32.451117Z"
    },
    "papermill": {
     "duration": 0.253719,
     "end_time": "2021-07-08T03:47:03.901356",
     "exception": false,
     "start_time": "2021-07-08T03:47:03.647637",
     "status": "completed"
    },
    "tags": []
   },
   "outputs": [
    {
     "data": {
      "text/plain": [
       "<AxesSubplot:title={'center':'Top 10 Pakistan Education Youtube Channel'}>"
      ]
     },
     "execution_count": 14,
     "metadata": {},
     "output_type": "execute_result"
    },
    {
     "data": {
      "image/png": "[encoded data removed]",
      "text/plain": [
       "<Figure size 1440x360 with 1 Axes>"
      ]
     },
     "metadata": {
      "needs_background": "light"
     },
     "output_type": "display_data"
    }
   ],
   "source": [
    "# Show Top 10 Pakistan Education Youtube Channel using barplot\n",
    "plt.figure(figsize=(20,5))\n",
    "plt.title('Top 10 Pakistan Education Youtube Channel')\n",
    "channels=df.query('Category==\"Education\"')\n",
    "Subscriber=list(channels['Subscriber'].head(10))\n",
    "Names=list(channels['Channel Name'].head(10))\n",
    "sns.barplot(x=Names,y=Subscriber)"
   ]
  },
  {
   "cell_type": "code",
   "execution_count": 15,
   "id": "dress-granny",
   "metadata": {
    "execution": {
     "iopub.execute_input": "2021-07-08T03:47:03.975454Z",
     "iopub.status.busy": "2021-07-08T03:47:03.970627Z",
     "iopub.status.idle": "2021-07-08T03:47:04.182978Z",
     "shell.execute_reply": "2021-07-08T03:47:04.182468Z",
     "shell.execute_reply.started": "2021-06-04T18:25:22.364228Z"
    },
    "papermill": {
     "duration": 0.257669,
     "end_time": "2021-07-08T03:47:04.183114",
     "exception": false,
     "start_time": "2021-07-08T03:47:03.925445",
     "status": "completed"
    },
    "tags": []
   },
   "outputs": [
    {
     "data": {
      "text/plain": [
       "<AxesSubplot:title={'center':'Top 10 Pakistan Youtube Entertainment Channel'}>"
      ]
     },
     "execution_count": 15,
     "metadata": {},
     "output_type": "execute_result"
    },
    {
     "data": {
      "image/png": "[encoded data removed]",
      "text/plain": [
       "<Figure size 1440x360 with 1 Axes>"
      ]
     },
     "metadata": {
      "needs_background": "light"
     },
     "output_type": "display_data"
    }
   ],
   "source": [
    "#Show Top 10 Pakistan Youtube Entertainment Channel using bar plot\n",
    "plt.figure(figsize=(20,5))\n",
    "plt.title('Top 10 Pakistan Youtube Entertainment Channel')\n",
    "channels=df.query('Category==\"Entertainment\"')\n",
    "Subscriber=list(channels['Subscriber'].head(10))\n",
    "Names=list(channels['Channel Name'].head(10))\n",
    "sns.barplot(x=Names,y=Subscriber)"
   ]
  },
  {
   "cell_type": "code",
   "execution_count": 16,
   "id": "willing-mambo",
   "metadata": {
    "execution": {
     "iopub.execute_input": "2021-07-08T03:47:04.274226Z",
     "iopub.status.busy": "2021-07-08T03:47:04.273522Z",
     "iopub.status.idle": "2021-07-08T03:47:04.437924Z",
     "shell.execute_reply": "2021-07-08T03:47:04.438409Z",
     "shell.execute_reply.started": "2021-06-04T18:26:03.195589Z"
    },
    "papermill": {
     "duration": 0.229945,
     "end_time": "2021-07-08T03:47:04.438584",
     "exception": false,
     "start_time": "2021-07-08T03:47:04.208639",
     "status": "completed"
    },
    "tags": []
   },
   "outputs": [
    {
     "data": {
      "text/plain": [
       "<AxesSubplot:title={'center':'Top 10 Pakistan Youtube News Channel'}>"
      ]
     },
     "execution_count": 16,
     "metadata": {},
     "output_type": "execute_result"
    },
    {
     "data": {
      "image/png": "[encoded data removed]",
      "text/plain": [
       "<Figure size 1440x360 with 1 Axes>"
      ]
     },
     "metadata": {
      "needs_background": "light"
     },
     "output_type": "display_data"
    }
   ],
   "source": [
    "#Show Top 10 Pakistan Youtube News Channel using barplot\n",
    "plt.figure(figsize=(20,5))\n",
    "plt.title('Top 10 Pakistan Youtube News Channel')\n",
    "channels=df.query('Category==\"News & Politics\"')\n",
    "Subscriber=list(channels['Subscriber'].head(10))\n",
    "Names=list(channels['Channel Name'].head(10))\n",
    "sns.barplot(x=Names,y=Subscriber)"
   ]
  },
  {
   "cell_type": "code",
   "execution_count": 17,
   "id": "continuous-bulletin",
   "metadata": {
    "execution": {
     "iopub.execute_input": "2021-07-08T03:47:04.616926Z",
     "iopub.status.busy": "2021-07-08T03:47:04.613099Z",
     "iopub.status.idle": "2021-07-08T03:47:04.803039Z",
     "shell.execute_reply": "2021-07-08T03:47:04.802242Z",
     "shell.execute_reply.started": "2021-06-04T18:26:34.917633Z"
    },
    "papermill": {
     "duration": 0.33806,
     "end_time": "2021-07-08T03:47:04.803179",
     "exception": false,
     "start_time": "2021-07-08T03:47:04.465119",
     "status": "completed"
    },
    "tags": []
   },
   "outputs": [
    {
     "data": {
      "text/plain": [
       "<AxesSubplot:title={'center':'Top 10 Pakistan Youtube News Channel'}>"
      ]
     },
     "execution_count": 17,
     "metadata": {},
     "output_type": "execute_result"
    },
    {
     "data": {
      "image/png": "[encoded data removed]",
      "text/plain": [
       "<Figure size 1440x360 with 1 Axes>"
      ]
     },
     "metadata": {
      "needs_background": "light"
     },
     "output_type": "display_data"
    }
   ],
   "source": [
    "#Show Top 10 Pakistan Youtube News Channel using barplot\n",
    "plt.figure(figsize=(20,5))\n",
    "plt.title('Top 10 Pakistan Youtube News Channel')\n",
    "channels=df.query('Category==\"Music\"')\n",
    "Subscriber=list(channels['Subscriber'].head(10))\n",
    "Names=list(channels['Channel Name'].head(10))\n",
    "sns.barplot(x=Names,y=Subscriber)"
   ]
  },
  {
   "cell_type": "code",
   "execution_count": 18,
   "id": "experimental-status",
   "metadata": {
    "execution": {
     "iopub.execute_input": "2021-07-08T03:47:04.891805Z",
     "iopub.status.busy": "2021-07-08T03:47:04.886606Z",
     "iopub.status.idle": "2021-07-08T03:47:04.996276Z",
     "shell.execute_reply": "2021-07-08T03:47:04.995677Z",
     "shell.execute_reply.started": "2021-06-04T18:29:00.435391Z"
    },
    "papermill": {
     "duration": 0.165911,
     "end_time": "2021-07-08T03:47:04.996446",
     "exception": false,
     "start_time": "2021-07-08T03:47:04.830535",
     "status": "completed"
    },
    "tags": []
   },
   "outputs": [
    {
     "data": {
      "text/plain": [
       "<AxesSubplot:title={'center':'Top Pakistani Comedy youtube Channel'}>"
      ]
     },
     "execution_count": 18,
     "metadata": {},
     "output_type": "execute_result"
    },
    {
     "data": {
      "image/png": "[encoded data removed]",
      "text/plain": [
       "<Figure size 432x288 with 1 Axes>"
      ]
     },
     "metadata": {
      "needs_background": "light"
     },
     "output_type": "display_data"
    }
   ],
   "source": [
    "#Show Top Pakistani Comedy youtube Channel using barchart\n",
    "plt.title('Top Pakistani Comedy youtube Channel')\n",
    "channels=df.query('Category==\"Comedy\"')\n",
    "Subscriber=list(channels['Subscriber'])\n",
    "Names=list(channels['Channel Name'])\n",
    "sns.barplot(x=Names,y=Subscriber)"
   ]
  }
 ],
 "metadata": {
  "kernelspec": {
   "display_name": "Python 3",
   "language": "python",
   "name": "python3"
  },
  "language_info": {
   "codemirror_mode": {
    "name": "ipython",
    "version": 3
   },
   "file_extension": ".py",
   "mimetype": "text/x-python",
   "name": "python",
   "nbconvert_exporter": "python",
   "pygments_lexer": "ipython3",
   "version": "3.7.10"
  },
  "papermill": {
   "default_parameters": {},
   "duration": 12.803331,
   "end_time": "2021-07-08T03:47:06.614967",
   "environment_variables": {},
   "exception": null,
   "input_path": "__notebook__.ipynb",
   "output_path": "__notebook__.ipynb",
   "parameters": {},
   "start_time": "2021-07-08T03:46:53.811636",
   "version": "2.3.3"
  }
 },
 "nbformat": 4,
 "nbformat_minor": 5
}
